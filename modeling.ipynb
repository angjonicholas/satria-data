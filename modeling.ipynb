{
 "cells": [
  {
   "cell_type": "markdown",
   "id": "0567e2b5",
   "metadata": {},
   "source": [
    "## 1. Preparation"
   ]
  },
  {
   "cell_type": "code",
   "execution_count": 1,
   "id": "df8adf45",
   "metadata": {
    "ExecuteTime": {
     "end_time": "2022-08-29T11:24:00.037112Z",
     "start_time": "2022-08-29T11:23:57.330558Z"
    }
   },
   "outputs": [
    {
     "name": "stderr",
     "output_type": "stream",
     "text": [
      "C:\\Users\\angjo\\anaconda3\\lib\\site-packages\\xgboost\\compat.py:31: FutureWarning: pandas.Int64Index is deprecated and will be removed from pandas in a future version. Use pandas.Index with the appropriate dtype instead.\n",
      "  from pandas import MultiIndex, Int64Index\n"
     ]
    }
   ],
   "source": [
    "import pandas as pd\n",
    "import numpy as np\n",
    "import seaborn as sns\n",
    "import matplotlib.pyplot as plt\n",
    "\n",
    "import IPython\n",
    "import itertools\n",
    "import textwrap\n",
    "from IPython.display import (display, HTML, display_html)\n",
    "\n",
    "from sklearn.model_selection import cross_val_score, KFold, train_test_split\n",
    "from sklearn.ensemble import (RandomForestRegressor, ExtraTreesRegressor,\n",
    "                              AdaBoostRegressor, BaggingRegressor)\n",
    "from sklearn.tree import DecisionTreeRegressor\n",
    "from sklearn.preprocessing import QuantileTransformer\n",
    "\n",
    "from catboost import CatBoostRegressor\n",
    "from xgboost import XGBRegressor\n",
    "from lightgbm import LGBMRegressor\n",
    "\n",
    "from shap import TreeExplainer, summary_plot\n",
    "from sklearn.preprocessing import OrdinalEncoder\n",
    "import warnings\n",
    "warnings.simplefilter(action='ignore', category=FutureWarning)\n",
    "\n",
    "from sklearn.preprocessing import PolynomialFeatures\n",
    "\n",
    "from sklearn.compose import TransformedTargetRegressor"
   ]
  },
  {
   "cell_type": "code",
   "execution_count": 2,
   "id": "dc87aa00",
   "metadata": {
    "ExecuteTime": {
     "end_time": "2022-08-29T11:24:00.052778Z",
     "start_time": "2022-08-29T11:24:00.038688Z"
    }
   },
   "outputs": [],
   "source": [
    "def preprocess(df):\n",
    "    \n",
    "    '''\n",
    "    Fungsi ini untuk mempermudah preprocessing data\n",
    "    '''\n",
    "    \n",
    "    ### PREPROCESS 'LISTING' ###\n",
    "    # diekstrak kata pertama untuk mendapatkan 'produsen'\n",
    "    df['produsen'] = df['listing'].str.split().str.get(0)\n",
    "    \n",
    "    # diekstrak kata terakhir untuk mendapatkan 'tahun'\n",
    "    df['tahun'] = df['listing'].str.split().str.get(-1)\n",
    "    \n",
    "    # diremove tanda baca pada 'tahun'\n",
    "    df['tahun'] = df['tahun'].str.replace('[()<]', '')\n",
    "    \n",
    "    # diubah tipe data 'tahun' menjadi integer\n",
    "    df['tahun'] = df['tahun'].astype('int')\n",
    "    \n",
    "    # diambil nama mobil saja dgn cara hapus kata pertama dan terakhir\n",
    "    df['listing'] = df['listing'].str.split(n=1).str[1]\n",
    "    df['listing'] = df['listing'].str.split(n=1).str[-2]\n",
    "    \n",
    "    \n",
    "    ### PREPROCESS 'ODO' ###\n",
    "    # diremove tanda baca dan huruf sehingga hanya tersisa angka\n",
    "    df['odo'] = df['odo'].str.replace('-', ' ')\n",
    "    df['odo'] = df['odo'].str.replace('[.>Km]', '')\n",
    "    \n",
    "    # displit sehingga diperoleh batas bawah dan batas atas odo\n",
    "    df['odo_bawah'] = df['odo'].str.split().str.get(0)\n",
    "    df['odo_atas'] = df['odo'].str.split().str.get(-1)\n",
    "    \n",
    "    # diubah tipe data 'odo_bawah' dan 'odo_atas' menjadi integer\n",
    "    df[['odo_bawah', 'odo_atas']] = df[['odo_bawah', 'odo_atas']].astype('int')\n",
    "    \n",
    "    # diambil nilai rata-rata dari batas bawah dan batas atas odo\n",
    "    df['odo_mean'] = (df['odo_bawah'] + df['odo_atas']) / 2\n",
    "    \n",
    "    # mengganti outlier dengan nilai rata-rata\n",
    "    df['odo_mean'] = df['odo_mean'].replace(999999.0, np.nan)\n",
    "    df['odo_mean'] = df['odo_mean'].fillna(df['odo_mean'].mean())\n",
    "    \n",
    "    \n",
    "    ### PREPROCESS 'MESIN' ###\n",
    "    # untuk sementara missing value di-replace dengan 0\n",
    "    df['mesin'] = df['mesin'].fillna('0')\n",
    "    \n",
    "    # dihapus tanda baca dan huruf sehingga hanya tersisa angka\n",
    "    df['mesin'] = df['mesin'].str.replace(' - ', ' ')\n",
    "    df['mesin'] = df['mesin'].str.replace('[.><cc]', '')\n",
    "    \n",
    "    # displit sehingga diperoleh batas bawah dan batas atas mesin\n",
    "    df['mesin_bawah'] = df['mesin'].str.split().str.get(0)\n",
    "    df['mesin_atas'] = df['mesin'].str.split().str.get(-1)\n",
    "    \n",
    "    # diubah tipe data 'mesin_atas' dan 'mesin_bawah' menjadi integer\n",
    "    df[['mesin_bawah', 'mesin_atas']] = df[['mesin_bawah', 'mesin_atas']].astype('int')\n",
    "\n",
    "    # diambil nilai rata-rata dari batas bawah dan batas atas mesin\n",
    "    df['mesin_mean'] = (df['mesin_bawah'] + df['mesin_atas']) / 2\n",
    "    \n",
    "    # angka 0 dikembalikan menjadi missing value, lalu diganti dengan nilai rata-rata keseluruhan\n",
    "    df['mesin_mean'] = df['mesin_mean'].replace(0, np.nan)\n",
    "    df['mesin_mean'] = df['mesin_mean'].fillna(df['mesin_mean'].mean())\n",
    "    \n",
    "    \n",
    "    ### PREPROCESS 'TAHUN' ###\n",
    "    # 'tahun' diubah menjadi usia\n",
    "    df['usia'] = 2022 - df['tahun']\n",
    "    \n",
    "    \n",
    "    ## HAPUS BARIS DAN FITUR TIDAK PENTING ###\n",
    "    df = df.drop([\n",
    "        'odo', 'odo_bawah', 'odo_atas', 'mesin', 'mesin_bawah', 'mesin_atas', 'tahun'\n",
    "    ], axis=1)\n",
    "\n",
    "    return df"
   ]
  },
  {
   "cell_type": "code",
   "execution_count": 3,
   "id": "d230f768",
   "metadata": {
    "ExecuteTime": {
     "end_time": "2022-08-29T11:24:00.068158Z",
     "start_time": "2022-08-29T11:24:00.054791Z"
    }
   },
   "outputs": [],
   "source": [
    "def ordinal(train, test):\n",
    "    \n",
    "    '''\n",
    "    Fitur ini untuk mempermudah ordinal encoding\n",
    "    '''\n",
    "    \n",
    "    ### MEMASTIKAN UNIQUE VALUE TRAIN ADA DI DALAM LINGKUP UNIQUE VALUE TEST ###\n",
    "    dict_penjual = dict(zip(test['penjual'].unique(), test['penjual'].unique()))\n",
    "    train['penjual'] = train['penjual'].map(dict_penjual)\n",
    "    \n",
    "    dict_bahan_bakar = dict(zip(test['bahan_bakar'].unique(), test['bahan_bakar'].unique()))\n",
    "    train['bahan_bakar'] = train['bahan_bakar'].map(dict_bahan_bakar)\n",
    "\n",
    "    dict_produsen = dict(zip(test['produsen'].unique(), test['produsen'].unique()))\n",
    "    train['produsen'] = train['produsen'].map(dict_produsen)\n",
    "\n",
    "    dict_listing = dict(zip(test['listing'].unique(), test['listing'].unique()))\n",
    "    train['listing'] = train['listing'].map(dict_listing)\n",
    "\n",
    "    train = train.dropna()\n",
    "    \n",
    "    \n",
    "    ### DIGABUNG ###\n",
    "    df = pd.concat([train, test])\n",
    "    \n",
    "    \n",
    "    ### ENCODING ###\n",
    "    catcol = [i for i in df.select_dtypes(include=['object', 'category']) if i != 'id']\n",
    "    encoder = OrdinalEncoder()\n",
    "    df[catcol] = encoder.fit_transform(df[catcol])\n",
    "    \n",
    "    \n",
    "    ### DIPISAH KEMBALI MENJADI TRAIN DAN TEST ##\n",
    "    train = df[df['harga'].notnull()].reset_index(drop=True)\n",
    "    test = df[df['harga'].isnull()].reset_index(drop=True)\n",
    "\n",
    "    return train, test"
   ]
  },
  {
   "cell_type": "code",
   "execution_count": 4,
   "id": "114a5659",
   "metadata": {
    "ExecuteTime": {
     "end_time": "2022-08-29T11:24:00.084122Z",
     "start_time": "2022-08-29T11:24:00.071154Z"
    }
   },
   "outputs": [],
   "source": [
    "def onehot(train, test):\n",
    "    \n",
    "    '''\n",
    "    Fitur ini untuk mempermudah one hot encoding\n",
    "    \n",
    "    '''\n",
    "    \n",
    "    ### MEMASTIKAN UNIQUE VALUE TRAIN ADA DI DALAM LINGKUP UNIQUE VALUE TEST ###\n",
    "    dict_penjual = dict(zip(test['penjual'].unique(), test['penjual'].unique()))\n",
    "    train['penjual'] = train['penjual'].map(dict_penjual)\n",
    "    \n",
    "    dict_bahan_bakar = dict(zip(test['bahan_bakar'].unique(), test['bahan_bakar'].unique()))\n",
    "    train['bahan_bakar'] = train['bahan_bakar'].map(dict_bahan_bakar)\n",
    "\n",
    "    dict_produsen = dict(zip(test['produsen'].unique(), test['produsen'].unique()))\n",
    "    train['produsen'] = train['produsen'].map(dict_produsen)\n",
    "\n",
    "    dict_listing = dict(zip(test['listing'].unique(), test['listing'].unique()))\n",
    "    train['listing'] = train['listing'].map(dict_listing)\n",
    "\n",
    "    train = train.dropna()\n",
    "    \n",
    "    \n",
    "    ### DIGABUNG ###\n",
    "    df = pd.concat([train, test])\n",
    "    \n",
    "    \n",
    "    ### ENCODING ###\n",
    "    catcol = [i for i in df.select_dtypes(include=['object', 'category']) if i != 'id']    \n",
    "    df = pd.get_dummies(df, columns=catcol, drop_first=True)\n",
    "    \n",
    "    \n",
    "    ### DIPISAH KEMBALI MENJADI TRAIN DAN TEST ##\n",
    "    train = df[df['harga'].notnull()].reset_index(drop=True)\n",
    "    test = df[df['harga'].isnull()].reset_index(drop=True)\n",
    "\n",
    "    return train, test"
   ]
  },
  {
   "cell_type": "code",
   "execution_count": 5,
   "id": "3a3bc338",
   "metadata": {
    "ExecuteTime": {
     "end_time": "2022-08-29T11:24:00.647509Z",
     "start_time": "2022-08-29T11:24:00.086140Z"
    }
   },
   "outputs": [],
   "source": [
    "raw_train = pd.read_csv('train.csv')\n",
    "raw_test = pd.read_csv('test.csv')\n",
    "\n",
    "pre_train = preprocess(raw_train)\n",
    "pre_test = preprocess(raw_test)\n",
    "\n",
    "train, test = ordinal(pre_train, pre_test)"
   ]
  },
  {
   "cell_type": "code",
   "execution_count": 6,
   "id": "e238dff9",
   "metadata": {
    "ExecuteTime": {
     "end_time": "2022-08-29T11:24:00.662834Z",
     "start_time": "2022-08-29T11:24:00.647509Z"
    }
   },
   "outputs": [
    {
     "data": {
      "text/plain": [
       "(1732, 397)"
      ]
     },
     "execution_count": 6,
     "metadata": {},
     "output_type": "execute_result"
    }
   ],
   "source": [
    "len(train), len(test)"
   ]
  },
  {
   "cell_type": "code",
   "execution_count": 7,
   "id": "3d33bbbd",
   "metadata": {
    "ExecuteTime": {
     "end_time": "2022-08-29T11:24:00.677199Z",
     "start_time": "2022-08-29T11:24:00.665672Z"
    }
   },
   "outputs": [
    {
     "data": {
      "text/plain": [
       "id               0\n",
       "listing        259\n",
       "bahan_bakar      7\n",
       "transmisi        0\n",
       "penjual          4\n",
       "harga            0\n",
       "produsen        47\n",
       "odo_mean         0\n",
       "mesin_mean       0\n",
       "usia             0\n",
       "dtype: int64"
      ]
     },
     "execution_count": 7,
     "metadata": {},
     "output_type": "execute_result"
    }
   ],
   "source": [
    "pre_train.isnull().sum()"
   ]
  },
  {
   "cell_type": "markdown",
   "id": "0dbfe15b",
   "metadata": {},
   "source": [
    "## 2. Feature Importance"
   ]
  },
  {
   "cell_type": "code",
   "execution_count": 8,
   "id": "c4ddbc40",
   "metadata": {
    "ExecuteTime": {
     "end_time": "2022-08-29T11:24:00.692646Z",
     "start_time": "2022-08-29T11:24:00.679503Z"
    }
   },
   "outputs": [],
   "source": [
    "def shap(model, X_train, X_valid, y_train):\n",
    "    fitted = model.fit(X_train, y_train)\n",
    "    explainer = TreeExplainer(fitted)\n",
    "    values = explainer.shap_values(X_valid)\n",
    "    \n",
    "    summary_plot(values, X_valid)\n",
    "    \n",
    "    df = pd.DataFrame(np.abs(values), columns=X_valid.columns).mean()\n",
    "    df = df.sort_values(ascending=False)\n",
    "    \n",
    "    return df.index.tolist()"
   ]
  },
  {
   "cell_type": "code",
   "execution_count": 9,
   "id": "ee83e07a",
   "metadata": {
    "ExecuteTime": {
     "end_time": "2022-08-29T11:24:00.708323Z",
     "start_time": "2022-08-29T11:24:00.693698Z"
    }
   },
   "outputs": [],
   "source": [
    "X = train.drop(['id', 'harga'], axis=1)\n",
    "y = train['harga']"
   ]
  },
  {
   "cell_type": "code",
   "execution_count": 10,
   "id": "b82f33c3",
   "metadata": {
    "ExecuteTime": {
     "end_time": "2022-08-29T11:24:01.280974Z",
     "start_time": "2022-08-29T11:24:00.711333Z"
    }
   },
   "outputs": [
    {
     "data": {
      "image/png": "[encoded data removed]",
      "text/plain": [
       "<Figure size 576x338.4 with 2 Axes>"
      ]
     },
     "metadata": {
      "needs_background": "light"
     },
     "output_type": "display_data"
    }
   ],
   "source": [
    "X_train, X_valid, y_train, y_valid = train_test_split(X, y, test_size=0.3, shuffle=True, random_state=408)\n",
    "model = XGBRegressor()\n",
    "shapfeats = shap(model, X_train, X_valid, y_train)"
   ]
  },
  {
   "cell_type": "markdown",
   "id": "a675f1f2",
   "metadata": {},
   "source": [
    "## 3. Feature Interaction"
   ]
  },
  {
   "cell_type": "code",
   "execution_count": 11,
   "id": "f75978b9",
   "metadata": {
    "ExecuteTime": {
     "end_time": "2022-08-29T11:24:01.296602Z",
     "start_time": "2022-08-29T11:24:01.282948Z"
    }
   },
   "outputs": [],
   "source": [
    "def top_k_interactions(feature_names, shap_interactions, k):\n",
    "    # Get the mean absolute contribution for each feature interaction\n",
    "    aggregate_interactions = np.mean(np.abs(shap_interactions[:, :-1, :-1]), axis=0)\n",
    "    interactions = []\n",
    "    for i in range(aggregate_interactions.shape[0]):\n",
    "        for j in range(aggregate_interactions.shape[1]):\n",
    "            if j < i:\n",
    "                interactions.append(\n",
    "                    (\n",
    "                        feature_names[i] + \"-\" + feature_names[j],\n",
    "                        aggregate_interactions[i][j] * 2,\n",
    "                    )\n",
    "                )\n",
    "    # sort by magnitude\n",
    "    interactions.sort(key=lambda x: x[1], reverse=True)\n",
    "    interaction_features, interaction_values = map(tuple, zip(*interactions))\n",
    "\n",
    "    return interaction_features[:k], interaction_values[:k]"
   ]
  },
  {
   "cell_type": "code",
   "execution_count": 12,
   "id": "8c6afc81",
   "metadata": {
    "ExecuteTime": {
     "end_time": "2022-08-29T11:24:01.312125Z",
     "start_time": "2022-08-29T11:24:01.298602Z"
    }
   },
   "outputs": [],
   "source": [
    "def plot_interaction(pairs, values):\n",
    "    plt.bar(pairs, values)\n",
    "    plt.xticks(rotation=90)\n",
    "    plt.tight_layout()\n",
    "    plt.show()"
   ]
  },
  {
   "cell_type": "code",
   "execution_count": 13,
   "id": "44013235",
   "metadata": {
    "ExecuteTime": {
     "end_time": "2022-08-29T11:24:02.713430Z",
     "start_time": "2022-08-29T11:24:01.315274Z"
    }
   },
   "outputs": [],
   "source": [
    "from xgboost import DMatrix\n",
    "\n",
    "fitted = model.fit(X_train, y_train)\n",
    "booster = model.get_booster()\n",
    "interaction = booster.predict(DMatrix(X_train, y_train), pred_interactions=True)"
   ]
  },
  {
   "cell_type": "code",
   "execution_count": 14,
   "id": "dbde52e2",
   "metadata": {
    "ExecuteTime": {
     "end_time": "2022-08-29T11:24:02.927633Z",
     "start_time": "2022-08-29T11:24:02.713430Z"
    }
   },
   "outputs": [
    {
     "data": {
      "image/png": "[encoded data removed]",
      "text/plain": [
       "<Figure size 432x288 with 1 Axes>"
      ]
     },
     "metadata": {
      "needs_background": "light"
     },
     "output_type": "display_data"
    }
   ],
   "source": [
    "top_inter_feats, top_inter_vals = top_k_interactions(X_train.columns, interaction, 10)\n",
    "plot_interaction(top_inter_feats, top_inter_vals)"
   ]
  },
  {
   "cell_type": "markdown",
   "id": "1de7d364",
   "metadata": {},
   "source": [
    "## 4. Modeling dan validasi"
   ]
  },
  {
   "cell_type": "code",
   "execution_count": 15,
   "id": "1fed57ec",
   "metadata": {
    "ExecuteTime": {
     "end_time": "2022-08-29T11:24:02.949096Z",
     "start_time": "2022-08-29T11:24:02.929668Z"
    }
   },
   "outputs": [],
   "source": [
    "def reg_validate(models, X, y, cv, scoring):\n",
    "    \n",
    "    '''\n",
    "    Fungsi ini untuk mempermudah validasi model\n",
    "    '''\n",
    "    \n",
    "    data = []\n",
    "    \n",
    "    for name, current_model in models:\n",
    "        current_data = {}\n",
    "        error = -cross_val_score(estimator=current_model, X=X, y=y, cv=cv, scoring=scoring)\n",
    "        \n",
    "        current_data['model'] = name\n",
    "        current_data['error'] = '{:.5f}'.format(error.mean())\n",
    "        \n",
    "        data.append(current_data)\n",
    "    \n",
    "    dframe = pd.DataFrame(data)\n",
    "    dframe = dframe.sort_values(by='error', ascending=True)\n",
    "    dframe = dframe.reset_index(drop=True)\n",
    "        \n",
    "    return dframe"
   ]
  },
  {
   "cell_type": "code",
   "execution_count": 16,
   "id": "dac04b7d",
   "metadata": {
    "ExecuteTime": {
     "end_time": "2022-08-29T11:24:02.964263Z",
     "start_time": "2022-08-29T11:24:02.951501Z"
    }
   },
   "outputs": [],
   "source": [
    "from sklearn.ensemble import HistGradientBoostingRegressor\n",
    "\n",
    "models = [\n",
    "    ['XGB', XGBRegressor()],\n",
    "    ['CatBoost', CatBoostRegressor(logging_level='Silent')],\n",
    "    # ['LGBM', LGBMRegressor()],\n",
    "    # ['TTR', TransformedTargetRegressor()],\n",
    "    ['ExtraTrees', ExtraTreesRegressor(criterion='absolute_error', random_state=100)],\n",
    "    #['AdaBoost', AdaBoostRegressor()],\n",
    "    ['RandomForest', RandomForestRegressor(random_state=100)],\n",
    "    #['DecisionTree', DecisionTreeRegressor()],\n",
    "    # ['MLP', MLPRegressor()]\n",
    "]\n",
    "\n",
    "cv = KFold(n_splits=5, shuffle=True, random_state=100)"
   ]
  },
  {
   "cell_type": "markdown",
   "id": "9b9f8034",
   "metadata": {},
   "source": [
    "### Ordinal encoding"
   ]
  },
  {
   "cell_type": "code",
   "execution_count": 17,
   "id": "8c57ee36",
   "metadata": {
    "ExecuteTime": {
     "end_time": "2022-08-29T11:24:29.024379Z",
     "start_time": "2022-08-29T11:24:02.966247Z"
    },
    "scrolled": false
   },
   "outputs": [
    {
     "data": {
      "text/html": [
       "<div>\n",
       "<style scoped>\n",
       "    .dataframe tbody tr th:only-of-type {\n",
       "        vertical-align: middle;\n",
       "    }\n",
       "\n",
       "    .dataframe tbody tr th {\n",
       "        vertical-align: top;\n",
       "    }\n",
       "\n",
       "    .dataframe thead th {\n",
       "        text-align: right;\n",
       "    }\n",
       "</style>\n",
       "<table border=\"1\" class=\"dataframe\">\n",
       "  <thead>\n",
       "    <tr style=\"text-align: right;\">\n",
       "      <th></th>\n",
       "      <th>model</th>\n",
       "      <th>error</th>\n",
       "    </tr>\n",
       "  </thead>\n",
       "  <tbody>\n",
       "    <tr>\n",
       "      <th>0</th>\n",
       "      <td>XGB</td>\n",
       "      <td>0.12610</td>\n",
       "    </tr>\n",
       "    <tr>\n",
       "      <th>1</th>\n",
       "      <td>CatBoost</td>\n",
       "      <td>0.12913</td>\n",
       "    </tr>\n",
       "    <tr>\n",
       "      <th>2</th>\n",
       "      <td>ExtraTrees</td>\n",
       "      <td>0.14402</td>\n",
       "    </tr>\n",
       "    <tr>\n",
       "      <th>3</th>\n",
       "      <td>RandomForest</td>\n",
       "      <td>0.15192</td>\n",
       "    </tr>\n",
       "  </tbody>\n",
       "</table>\n",
       "</div>"
      ],
      "text/plain": [
       "          model    error\n",
       "0           XGB  0.12610\n",
       "1      CatBoost  0.12913\n",
       "2    ExtraTrees  0.14402\n",
       "3  RandomForest  0.15192"
      ]
     },
     "execution_count": 17,
     "metadata": {},
     "output_type": "execute_result"
    }
   ],
   "source": [
    "val_01 = reg_validate(models, X, y, cv, 'neg_mean_absolute_percentage_error')\n",
    "val_01"
   ]
  },
  {
   "cell_type": "markdown",
   "id": "c9914db6",
   "metadata": {},
   "source": [
    "### One hot encoding"
   ]
  },
  {
   "cell_type": "code",
   "execution_count": 18,
   "id": "a6389d85",
   "metadata": {
    "ExecuteTime": {
     "end_time": "2022-08-29T11:24:29.224525Z",
     "start_time": "2022-08-29T11:24:29.026385Z"
    }
   },
   "outputs": [],
   "source": [
    "raw_train = pd.read_csv('train.csv')\n",
    "raw_test = pd.read_csv('test.csv')\n",
    "\n",
    "pre_train = preprocess(raw_train)\n",
    "pre_test = preprocess(raw_test)\n",
    "\n",
    "train, test = onehot(pre_train, pre_test)"
   ]
  },
  {
   "cell_type": "code",
   "execution_count": 19,
   "id": "1f1cb3e4",
   "metadata": {
    "ExecuteTime": {
     "end_time": "2022-08-29T11:24:29.256187Z",
     "start_time": "2022-08-29T11:24:29.227416Z"
    }
   },
   "outputs": [
    {
     "data": {
      "text/html": [
       "<div>\n",
       "<style scoped>\n",
       "    .dataframe tbody tr th:only-of-type {\n",
       "        vertical-align: middle;\n",
       "    }\n",
       "\n",
       "    .dataframe tbody tr th {\n",
       "        vertical-align: top;\n",
       "    }\n",
       "\n",
       "    .dataframe thead th {\n",
       "        text-align: right;\n",
       "    }\n",
       "</style>\n",
       "<table border=\"1\" class=\"dataframe\">\n",
       "  <thead>\n",
       "    <tr style=\"text-align: right;\">\n",
       "      <th></th>\n",
       "      <th>id</th>\n",
       "      <th>harga</th>\n",
       "      <th>odo_mean</th>\n",
       "      <th>mesin_mean</th>\n",
       "      <th>usia</th>\n",
       "      <th>listing_318i</th>\n",
       "      <th>listing_320i</th>\n",
       "      <th>listing_488</th>\n",
       "      <th>listing_520i</th>\n",
       "      <th>listing_8</th>\n",
       "      <th>...</th>\n",
       "      <th>produsen_mazda</th>\n",
       "      <th>produsen_mercedes-benz</th>\n",
       "      <th>produsen_mini</th>\n",
       "      <th>produsen_mitsubishi</th>\n",
       "      <th>produsen_nissan</th>\n",
       "      <th>produsen_porsche</th>\n",
       "      <th>produsen_suzuki</th>\n",
       "      <th>produsen_toyota</th>\n",
       "      <th>produsen_volkswagen</th>\n",
       "      <th>produsen_wuling</th>\n",
       "    </tr>\n",
       "  </thead>\n",
       "  <tbody>\n",
       "    <tr>\n",
       "      <th>0</th>\n",
       "      <td>4</td>\n",
       "      <td>22.9</td>\n",
       "      <td>42500.0</td>\n",
       "      <td>1750.0</td>\n",
       "      <td>4</td>\n",
       "      <td>0</td>\n",
       "      <td>0</td>\n",
       "      <td>0</td>\n",
       "      <td>0</td>\n",
       "      <td>0</td>\n",
       "      <td>...</td>\n",
       "      <td>0</td>\n",
       "      <td>0</td>\n",
       "      <td>0</td>\n",
       "      <td>0</td>\n",
       "      <td>0</td>\n",
       "      <td>0</td>\n",
       "      <td>0</td>\n",
       "      <td>1</td>\n",
       "      <td>0</td>\n",
       "      <td>0</td>\n",
       "    </tr>\n",
       "    <tr>\n",
       "      <th>1</th>\n",
       "      <td>5</td>\n",
       "      <td>46.2</td>\n",
       "      <td>67594.0</td>\n",
       "      <td>2393.0</td>\n",
       "      <td>4</td>\n",
       "      <td>0</td>\n",
       "      <td>0</td>\n",
       "      <td>0</td>\n",
       "      <td>0</td>\n",
       "      <td>0</td>\n",
       "      <td>...</td>\n",
       "      <td>0</td>\n",
       "      <td>0</td>\n",
       "      <td>0</td>\n",
       "      <td>0</td>\n",
       "      <td>0</td>\n",
       "      <td>0</td>\n",
       "      <td>0</td>\n",
       "      <td>1</td>\n",
       "      <td>0</td>\n",
       "      <td>0</td>\n",
       "    </tr>\n",
       "    <tr>\n",
       "      <th>2</th>\n",
       "      <td>6</td>\n",
       "      <td>9.5</td>\n",
       "      <td>152500.0</td>\n",
       "      <td>1250.0</td>\n",
       "      <td>9</td>\n",
       "      <td>0</td>\n",
       "      <td>0</td>\n",
       "      <td>0</td>\n",
       "      <td>0</td>\n",
       "      <td>0</td>\n",
       "      <td>...</td>\n",
       "      <td>0</td>\n",
       "      <td>0</td>\n",
       "      <td>0</td>\n",
       "      <td>0</td>\n",
       "      <td>0</td>\n",
       "      <td>0</td>\n",
       "      <td>0</td>\n",
       "      <td>0</td>\n",
       "      <td>0</td>\n",
       "      <td>0</td>\n",
       "    </tr>\n",
       "    <tr>\n",
       "      <th>3</th>\n",
       "      <td>7</td>\n",
       "      <td>42.9</td>\n",
       "      <td>47500.0</td>\n",
       "      <td>1750.0</td>\n",
       "      <td>3</td>\n",
       "      <td>0</td>\n",
       "      <td>0</td>\n",
       "      <td>0</td>\n",
       "      <td>0</td>\n",
       "      <td>0</td>\n",
       "      <td>...</td>\n",
       "      <td>0</td>\n",
       "      <td>0</td>\n",
       "      <td>0</td>\n",
       "      <td>0</td>\n",
       "      <td>0</td>\n",
       "      <td>0</td>\n",
       "      <td>0</td>\n",
       "      <td>0</td>\n",
       "      <td>0</td>\n",
       "      <td>0</td>\n",
       "    </tr>\n",
       "    <tr>\n",
       "      <th>4</th>\n",
       "      <td>8</td>\n",
       "      <td>35.9</td>\n",
       "      <td>17500.0</td>\n",
       "      <td>1250.0</td>\n",
       "      <td>1</td>\n",
       "      <td>0</td>\n",
       "      <td>0</td>\n",
       "      <td>0</td>\n",
       "      <td>0</td>\n",
       "      <td>0</td>\n",
       "      <td>...</td>\n",
       "      <td>0</td>\n",
       "      <td>0</td>\n",
       "      <td>0</td>\n",
       "      <td>0</td>\n",
       "      <td>0</td>\n",
       "      <td>0</td>\n",
       "      <td>0</td>\n",
       "      <td>0</td>\n",
       "      <td>0</td>\n",
       "      <td>1</td>\n",
       "    </tr>\n",
       "  </tbody>\n",
       "</table>\n",
       "<p>5 rows × 147 columns</p>\n",
       "</div>"
      ],
      "text/plain": [
       "   id  harga  odo_mean  mesin_mean  usia  listing_318i  listing_320i  \\\n",
       "0   4   22.9   42500.0      1750.0     4             0             0   \n",
       "1   5   46.2   67594.0      2393.0     4             0             0   \n",
       "2   6    9.5  152500.0      1250.0     9             0             0   \n",
       "3   7   42.9   47500.0      1750.0     3             0             0   \n",
       "4   8   35.9   17500.0      1250.0     1             0             0   \n",
       "\n",
       "   listing_488  listing_520i  listing_8  ...  produsen_mazda  \\\n",
       "0            0             0          0  ...               0   \n",
       "1            0             0          0  ...               0   \n",
       "2            0             0          0  ...               0   \n",
       "3            0             0          0  ...               0   \n",
       "4            0             0          0  ...               0   \n",
       "\n",
       "   produsen_mercedes-benz  produsen_mini  produsen_mitsubishi  \\\n",
       "0                       0              0                    0   \n",
       "1                       0              0                    0   \n",
       "2                       0              0                    0   \n",
       "3                       0              0                    0   \n",
       "4                       0              0                    0   \n",
       "\n",
       "   produsen_nissan  produsen_porsche  produsen_suzuki  produsen_toyota  \\\n",
       "0                0                 0                0                1   \n",
       "1                0                 0                0                1   \n",
       "2                0                 0                0                0   \n",
       "3                0                 0                0                0   \n",
       "4                0                 0                0                0   \n",
       "\n",
       "   produsen_volkswagen  produsen_wuling  \n",
       "0                    0                0  \n",
       "1                    0                0  \n",
       "2                    0                0  \n",
       "3                    0                0  \n",
       "4                    0                1  \n",
       "\n",
       "[5 rows x 147 columns]"
      ]
     },
     "execution_count": 19,
     "metadata": {},
     "output_type": "execute_result"
    }
   ],
   "source": [
    "train.head()"
   ]
  },
  {
   "cell_type": "code",
   "execution_count": 20,
   "id": "53b398d1",
   "metadata": {
    "ExecuteTime": {
     "end_time": "2022-08-29T11:24:29.271323Z",
     "start_time": "2022-08-29T11:24:29.259254Z"
    }
   },
   "outputs": [],
   "source": [
    "X = train.drop(['id', 'harga'], axis=1)\n",
    "y = train['harga']"
   ]
  },
  {
   "cell_type": "code",
   "execution_count": 21,
   "id": "ba2ca9ce",
   "metadata": {
    "ExecuteTime": {
     "end_time": "2022-08-29T11:27:04.665831Z",
     "start_time": "2022-08-29T11:24:29.274651Z"
    },
    "scrolled": false
   },
   "outputs": [
    {
     "data": {
      "text/html": [
       "<div>\n",
       "<style scoped>\n",
       "    .dataframe tbody tr th:only-of-type {\n",
       "        vertical-align: middle;\n",
       "    }\n",
       "\n",
       "    .dataframe tbody tr th {\n",
       "        vertical-align: top;\n",
       "    }\n",
       "\n",
       "    .dataframe thead th {\n",
       "        text-align: right;\n",
       "    }\n",
       "</style>\n",
       "<table border=\"1\" class=\"dataframe\">\n",
       "  <thead>\n",
       "    <tr style=\"text-align: right;\">\n",
       "      <th></th>\n",
       "      <th>model</th>\n",
       "      <th>error</th>\n",
       "    </tr>\n",
       "  </thead>\n",
       "  <tbody>\n",
       "    <tr>\n",
       "      <th>0</th>\n",
       "      <td>ExtraTrees</td>\n",
       "      <td>0.09543</td>\n",
       "    </tr>\n",
       "    <tr>\n",
       "      <th>1</th>\n",
       "      <td>RandomForest</td>\n",
       "      <td>0.11709</td>\n",
       "    </tr>\n",
       "    <tr>\n",
       "      <th>2</th>\n",
       "      <td>XGB</td>\n",
       "      <td>0.12511</td>\n",
       "    </tr>\n",
       "    <tr>\n",
       "      <th>3</th>\n",
       "      <td>CatBoost</td>\n",
       "      <td>0.12733</td>\n",
       "    </tr>\n",
       "  </tbody>\n",
       "</table>\n",
       "</div>"
      ],
      "text/plain": [
       "          model    error\n",
       "0    ExtraTrees  0.09543\n",
       "1  RandomForest  0.11709\n",
       "2           XGB  0.12511\n",
       "3      CatBoost  0.12733"
      ]
     },
     "execution_count": 21,
     "metadata": {},
     "output_type": "execute_result"
    }
   ],
   "source": [
    "val_02 = reg_validate(models, X, y, cv, 'neg_mean_absolute_percentage_error')\n",
    "val_02"
   ]
  },
  {
   "cell_type": "markdown",
   "id": "b46b75ec",
   "metadata": {},
   "source": [
    "### 4. Hyperparameter Tuning"
   ]
  },
  {
   "cell_type": "code",
   "execution_count": 22,
   "id": "67b0676a",
   "metadata": {
    "ExecuteTime": {
     "end_time": "2022-08-29T11:27:05.184313Z",
     "start_time": "2022-08-29T11:27:04.667843Z"
    }
   },
   "outputs": [],
   "source": [
    "from hyperopt import (hp, tpe, fmin, rand, \n",
    "                      Trials, STATUS_OK)"
   ]
  },
  {
   "cell_type": "code",
   "execution_count": 23,
   "id": "d97a10e0",
   "metadata": {
    "ExecuteTime": {
     "end_time": "2022-08-29T11:27:05.207299Z",
     "start_time": "2022-08-29T11:27:05.186882Z"
    }
   },
   "outputs": [],
   "source": [
    "def reg_hyperopt(model, X, y, cv, scoring, max_evals):    \n",
    "    \n",
    "    def extra_trees_obj(params):\n",
    "        params = {\n",
    "            'n_estimators': int(params['n_estimators']),\n",
    "            'min_samples_split': int(params['min_samples_split']),\n",
    "            # 'min_samples_leaf': int(params['min_samples_leaf']),\n",
    "            # 'max_depth': int(params['max_depth'])\n",
    "        }\n",
    "\n",
    "        estimator = ExtraTreesRegressor(**params, criterion='absolute_error')\n",
    "        errors = -cross_val_score(estimator=estimator, X=X, y=y, cv=cv, scoring=scoring, n_jobs=-1)\n",
    "    \n",
    "        return errors.mean()\n",
    "\n",
    "\n",
    "    extra_trees_space = {\n",
    "        'n_estimators': hp.quniform('n_estimators', 200, 2000, 200),\n",
    "        'min_samples_split': hp.quniform('min_samples_split', 2, 32, 2),\n",
    "        # 'min_samples_leaf': hp.quniform('min_samples_leaf', 2, 64, 2),\n",
    "        # 'max_depth': hp.quniform('max_depth', 64, 256, 8)\n",
    "    }\n",
    "\n",
    "    \n",
    "    if model == 'extra':\n",
    "        fn = extra_trees_obj\n",
    "        space = extra_trees_space\n",
    "        \n",
    "    else:\n",
    "        raise ValueError('Yeet!')\n",
    "        \n",
    "    tuned = fmin(fn=fn, space=space, algo=tpe.suggest, max_evals=max_evals)\n",
    "    \n",
    "    print('')\n",
    "    print('tuned_{} = {}'.format(model, tuned))\n",
    "    print('')"
   ]
  },
  {
   "cell_type": "code",
   "execution_count": 24,
   "id": "45c08d2c",
   "metadata": {
    "ExecuteTime": {
     "end_time": "2022-08-29T11:27:05.228417Z",
     "start_time": "2022-08-29T11:27:05.207299Z"
    }
   },
   "outputs": [],
   "source": [
    "# reg_hyperopt('extra', X, y, cv, 'neg_mean_absolute_percentage_error', 50)"
   ]
  },
  {
   "cell_type": "markdown",
   "id": "ec3993e9",
   "metadata": {},
   "source": [
    "## SUBMISSION"
   ]
  },
  {
   "cell_type": "code",
   "execution_count": 25,
   "id": "3486dad5",
   "metadata": {
    "ExecuteTime": {
     "end_time": "2022-08-29T11:27:05.243970Z",
     "start_time": "2022-08-29T11:27:05.232446Z"
    }
   },
   "outputs": [],
   "source": [
    "def submission(X, y, model, test):\n",
    "    fitted = model.fit(X, y)\n",
    "    sub = pd.DataFrame()\n",
    "    X_test = test.drop(['id', 'harga'], axis=1)\n",
    "    \n",
    "    sub['id'] = test['id']\n",
    "    sub['harga'] = fitted.predict(X_test)\n",
    "    sub['harga'] = sub['harga'].round(1)\n",
    "    \n",
    "    return sub"
   ]
  }
 ],
 "metadata": {
  "kernelspec": {
   "display_name": "Python 3 (ipykernel)",
   "language": "python",
   "name": "python3"
  },
  "language_info": {
   "codemirror_mode": {
    "name": "ipython",
    "version": 3
   },
   "file_extension": ".py",
   "mimetype": "text/x-python",
   "name": "python",
   "nbconvert_exporter": "python",
   "pygments_lexer": "ipython3",
   "version": "3.9.12"
  }
 },
 "nbformat": 4,
 "nbformat_minor": 5
}
